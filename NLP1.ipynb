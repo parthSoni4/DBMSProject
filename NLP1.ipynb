{
  "nbformat": 4,
  "nbformat_minor": 0,
  "metadata": {
    "colab": {
      "provenance": [],
      "authorship_tag": "ABX9TyN+DkbOTzQ15pqVqZPGKDvV",
      "include_colab_link": true
    },
    "kernelspec": {
      "name": "python3",
      "display_name": "Python 3"
    },
    "language_info": {
      "name": "python"
    }
  },
  "cells": [
    {
      "cell_type": "markdown",
      "metadata": {
        "id": "view-in-github",
        "colab_type": "text"
      },
      "source": [
        "<a href=\"https://colab.research.google.com/github/parthSoni4/DBMSProject/blob/main/NLP1.ipynb\" target=\"_parent\"><img src=\"https://colab.research.google.com/assets/colab-badge.svg\" alt=\"Open In Colab\"/></a>"
      ]
    },
    {
      "cell_type": "code",
      "execution_count": null,
      "metadata": {
        "id": "ps0QPKlJcXof"
      },
      "outputs": [],
      "source": [
        "# Step 1: Import the necessary libraries\n",
        "from sklearn.feature_extraction.text import CountVectorizer\n",
        "from sklearn.model_selection import train_test_split\n",
        "from sklearn.linear_model import LogisticRegression\n",
        "from sklearn.metrics import accuracy_score\n",
        "\n",
        "\n",
        "# Step 2: Define the dataset\n",
        "documents = [\n",
        "    \"I love this movie!\",\n",
        "    \"This movie is terrible.\",\n",
        "    \"What a great book!\",\n",
        "    \"I did not like the ending.\",\n",
        "    \"The acting was amazing!\",\n",
        "    \"This book is fantastic!\",\n",
        "    \"The plot was confusing.\",\n",
        "    \"I highly recommend it!\",\n",
        "    \"The characters were poorly developed.\",\n",
        "    \"The storyline was captivating.\",\n",
        "    \"I couldn't put it down!\",\n",
        "    \"The dialogue was unrealistic.\",\n",
        "    \"The cinematography was stunning.\",\n",
        "    \"The pacing was too slow.\",\n",
        "    \"The book had a predictable ending.\",\n",
        "    \"The acting performances were outstanding!\",\n",
        "    \"This restaurant has delicious food!\",\n",
        "    \"The service at this hotel was terrible.\",\n",
        "    \"The weather today is beautiful!\",\n",
        "    \"I had a horrible experience at the store.\",\n",
        "    \"The music in this album is fantastic!\",\n",
        "    \"I'm disappointed with the customer support.\",\n",
        "    \"The product exceeded my expectations!\",\n",
        "    \"This game is so much fun!\",\n",
        "    \"The quality of the product is poor.\",\n",
        "    \"The presentation was engaging and informative.\",\n",
        "    \"The company's customer service needs improvement.\",\n",
        "    \"The performance was outstanding!\",\n",
        "    \"This place is amazing!\",\n",
        "    \"The software is easy to use and intuitive.\",\n",
        "    \"I regret purchasing this item.\",\n",
        "    \"The concert was a memorable experience!\",\n",
        "    \"The customer experience was unsatisfactory.\",\n",
        "    \"The team played exceptionally well!\",\n",
        "    \"This car has excellent fuel efficiency.\",\n",
        "    \"The customer feedback was positive.\",\n",
        "    \"The design of the website is user-friendly.\",\n",
        "    \"I had a bad encounter with the salesperson.\",\n",
        "    \"The event was well-organized and enjoyable.\",\n",
        "    \"This app crashes frequently.\",\n",
        "    \"The staff was friendly and helpful.\",\n",
        "    \"The product is durable and long-lasting.\",\n",
        "    \"The customer reviews were mixed.\",\n",
        "    \"The interface is intuitive and easy to navigate.\",\n",
        "    \"I had a negative interaction with the manager.\",\n",
        "    \"The conference was informative and insightful.\",\n",
        "    \"This gadget is innovative and cutting-edge.\",\n",
        "    \"The response time was slow and frustrating.\",\n",
        "    \"The company values customer satisfaction.\",\n",
        "    \"The atmosphere was cozy and inviting.\",\n",
        "    \"I had a positive experience with the support team.\"\n",
        "]\n",
        "labels = [\n",
        "    \"positive\", \"negative\", \"positive\", \"negative\", \"positive\", \"positive\", \"negative\", \"positive\",\n",
        "    \"negative\", \"positive\", \"positive\", \"negative\", \"positive\", \"negative\", \"negative\", \"positive\",\n",
        "    \"positive\", \"negative\", \"positive\", \"negative\", \"positive\", \"positive\", \"negative\", \"positive\",\n",
        "    \"positive\", \"negative\", \"positive\", \"negative\", \"positive\", \"negative\", \"positive\", \"positive\",\n",
        "    \"negative\", \"positive\", \"negative\", \"positive\", \"negative\", \"positive\", \"negative\", \"positive\",\n",
        "    \"positive\", \"negative\", \"positive\", \"negative\", \"positive\", \"positive\", \"negative\", \"positive\",\n",
        "    \"negative\", \"positive\", \"positive\"\n",
        "]\n",
        "\n",
        "\n",
        "documents = documents + documents+ documents\n",
        "labels = labels + labels +labels\n",
        "\n",
        "\n",
        "\n",
        "# Rest of the code remains the same...\n"
      ]
    },
    {
      "cell_type": "code",
      "source": [
        "X_train, X_test, Y_train, Y_test=train_test_split(documents, labels, test_size=0.1, random_state=42)\n",
        "\n",
        "\n",
        "# this is the third step\n",
        "# test size means in ratio of 2 and 8\n",
        "# random state will divide or split in same way each time you run the code\n",
        "\n"
      ],
      "metadata": {
        "id": "NNZona7Ocj2M"
      },
      "execution_count": null,
      "outputs": []
    },
    {
      "cell_type": "code",
      "source": [
        "vectorizer=CountVectorizer()\n",
        "X_train_features=vectorizer.fit_transform(X_train)\n",
        "X_test_features=vectorizer.transform(X_test)\n",
        "\n",
        "# Count vectorizer help us to convert text doc or lines into numerical feature\n",
        "# fit transform will identify unique words\n",
        "# it will return a matrix which contain all unique words and their counts\n",
        "\n",
        "\n"
      ],
      "metadata": {
        "id": "roz-SlLheJ-9"
      },
      "execution_count": null,
      "outputs": []
    },
    {
      "cell_type": "code",
      "source": [
        "classifier=LogisticRegression()\n",
        "classifier.fit(X_train_features, Y_train)\n",
        "# logistic regression is a classification algorithm\n",
        "# model the imput feature and the probability of belonging to a class"
      ],
      "metadata": {
        "colab": {
          "base_uri": "https://localhost:8080/",
          "height": 75
        },
        "id": "cbjncPkhfmm7",
        "outputId": "c9bfe492-5d31-4eb6-a12d-751275fa9c26"
      },
      "execution_count": null,
      "outputs": [
        {
          "output_type": "execute_result",
          "data": {
            "text/plain": [
              "LogisticRegression()"
            ],
            "text/html": [
              "<style>#sk-container-id-3 {color: black;background-color: white;}#sk-container-id-3 pre{padding: 0;}#sk-container-id-3 div.sk-toggleable {background-color: white;}#sk-container-id-3 label.sk-toggleable__label {cursor: pointer;display: block;width: 100%;margin-bottom: 0;padding: 0.3em;box-sizing: border-box;text-align: center;}#sk-container-id-3 label.sk-toggleable__label-arrow:before {content: \"▸\";float: left;margin-right: 0.25em;color: #696969;}#sk-container-id-3 label.sk-toggleable__label-arrow:hover:before {color: black;}#sk-container-id-3 div.sk-estimator:hover label.sk-toggleable__label-arrow:before {color: black;}#sk-container-id-3 div.sk-toggleable__content {max-height: 0;max-width: 0;overflow: hidden;text-align: left;background-color: #f0f8ff;}#sk-container-id-3 div.sk-toggleable__content pre {margin: 0.2em;color: black;border-radius: 0.25em;background-color: #f0f8ff;}#sk-container-id-3 input.sk-toggleable__control:checked~div.sk-toggleable__content {max-height: 200px;max-width: 100%;overflow: auto;}#sk-container-id-3 input.sk-toggleable__control:checked~label.sk-toggleable__label-arrow:before {content: \"▾\";}#sk-container-id-3 div.sk-estimator input.sk-toggleable__control:checked~label.sk-toggleable__label {background-color: #d4ebff;}#sk-container-id-3 div.sk-label input.sk-toggleable__control:checked~label.sk-toggleable__label {background-color: #d4ebff;}#sk-container-id-3 input.sk-hidden--visually {border: 0;clip: rect(1px 1px 1px 1px);clip: rect(1px, 1px, 1px, 1px);height: 1px;margin: -1px;overflow: hidden;padding: 0;position: absolute;width: 1px;}#sk-container-id-3 div.sk-estimator {font-family: monospace;background-color: #f0f8ff;border: 1px dotted black;border-radius: 0.25em;box-sizing: border-box;margin-bottom: 0.5em;}#sk-container-id-3 div.sk-estimator:hover {background-color: #d4ebff;}#sk-container-id-3 div.sk-parallel-item::after {content: \"\";width: 100%;border-bottom: 1px solid gray;flex-grow: 1;}#sk-container-id-3 div.sk-label:hover label.sk-toggleable__label {background-color: #d4ebff;}#sk-container-id-3 div.sk-serial::before {content: \"\";position: absolute;border-left: 1px solid gray;box-sizing: border-box;top: 0;bottom: 0;left: 50%;z-index: 0;}#sk-container-id-3 div.sk-serial {display: flex;flex-direction: column;align-items: center;background-color: white;padding-right: 0.2em;padding-left: 0.2em;position: relative;}#sk-container-id-3 div.sk-item {position: relative;z-index: 1;}#sk-container-id-3 div.sk-parallel {display: flex;align-items: stretch;justify-content: center;background-color: white;position: relative;}#sk-container-id-3 div.sk-item::before, #sk-container-id-3 div.sk-parallel-item::before {content: \"\";position: absolute;border-left: 1px solid gray;box-sizing: border-box;top: 0;bottom: 0;left: 50%;z-index: -1;}#sk-container-id-3 div.sk-parallel-item {display: flex;flex-direction: column;z-index: 1;position: relative;background-color: white;}#sk-container-id-3 div.sk-parallel-item:first-child::after {align-self: flex-end;width: 50%;}#sk-container-id-3 div.sk-parallel-item:last-child::after {align-self: flex-start;width: 50%;}#sk-container-id-3 div.sk-parallel-item:only-child::after {width: 0;}#sk-container-id-3 div.sk-dashed-wrapped {border: 1px dashed gray;margin: 0 0.4em 0.5em 0.4em;box-sizing: border-box;padding-bottom: 0.4em;background-color: white;}#sk-container-id-3 div.sk-label label {font-family: monospace;font-weight: bold;display: inline-block;line-height: 1.2em;}#sk-container-id-3 div.sk-label-container {text-align: center;}#sk-container-id-3 div.sk-container {/* jupyter's `normalize.less` sets `[hidden] { display: none; }` but bootstrap.min.css set `[hidden] { display: none !important; }` so we also need the `!important` here to be able to override the default hidden behavior on the sphinx rendered scikit-learn.org. See: https://github.com/scikit-learn/scikit-learn/issues/21755 */display: inline-block !important;position: relative;}#sk-container-id-3 div.sk-text-repr-fallback {display: none;}</style><div id=\"sk-container-id-3\" class=\"sk-top-container\"><div class=\"sk-text-repr-fallback\"><pre>LogisticRegression()</pre><b>In a Jupyter environment, please rerun this cell to show the HTML representation or trust the notebook. <br />On GitHub, the HTML representation is unable to render, please try loading this page with nbviewer.org.</b></div><div class=\"sk-container\" hidden><div class=\"sk-item\"><div class=\"sk-estimator sk-toggleable\"><input class=\"sk-toggleable__control sk-hidden--visually\" id=\"sk-estimator-id-3\" type=\"checkbox\" checked><label for=\"sk-estimator-id-3\" class=\"sk-toggleable__label sk-toggleable__label-arrow\">LogisticRegression</label><div class=\"sk-toggleable__content\"><pre>LogisticRegression()</pre></div></div></div></div></div>"
            ]
          },
          "metadata": {},
          "execution_count": 34
        }
      ]
    },
    {
      "cell_type": "code",
      "source": [
        "predictions=classifier.predict(X_test_features)\n"
      ],
      "metadata": {
        "id": "PeDUp0OVf9pl"
      },
      "execution_count": null,
      "outputs": []
    },
    {
      "cell_type": "code",
      "source": [
        "accuracy=accuracy_score(Y_test, predictions)\n",
        "print(accuracy)"
      ],
      "metadata": {
        "colab": {
          "base_uri": "https://localhost:8080/"
        },
        "id": "OBMt0id_gFOP",
        "outputId": "2bf6d14e-ea67-4f34-e2e1-7bad9191400f"
      },
      "execution_count": null,
      "outputs": [
        {
          "output_type": "stream",
          "name": "stdout",
          "text": [
            "1.0\n"
          ]
        }
      ]
    },
    {
      "cell_type": "code",
      "source": [
        "from sklearn.feature_extraction.text import CountVectorizer\n",
        "\n",
        "# Define the bag-of-words feature extractor\n",
        "feature_extractor = CountVectorizer()\n",
        "\n",
        "# Fit the feature extractor on the documents\n",
        "feature_extractor.fit(documents)\n",
        "\n",
        "# Take a sentence as input from the user\n",
        "sentence = input(\"Enter a sentence: \")\n",
        "\n",
        "# Vectorize the input sentence using the feature extractor\n",
        "sentence_features = feature_extractor.transform([sentence])\n",
        "\n",
        "# Make a prediction using the classifier model\n",
        "prediction = classifier.predict(sentence_features)\n",
        "\n",
        "# Print the predicted label\n",
        "print(\"Predicted label:\", prediction)\n"
      ],
      "metadata": {
        "colab": {
          "base_uri": "https://localhost:8080/"
        },
        "id": "cBNtcHkmJeSj",
        "outputId": "489dc883-6d23-467f-f1ed-d0ba50e5c4e1"
      },
      "execution_count": null,
      "outputs": [
        {
          "output_type": "stream",
          "name": "stdout",
          "text": [
            "Enter a sentence: this is the ending\n",
            "Predicted label: ['negative']\n"
          ]
        }
      ]
    },
    {
      "cell_type": "code",
      "source": [],
      "metadata": {
        "id": "NW5RXRPoKZr1"
      },
      "execution_count": null,
      "outputs": []
    }
  ]
}